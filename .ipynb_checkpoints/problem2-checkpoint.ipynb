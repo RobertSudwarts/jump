{
 "cells": [
  {
   "cell_type": "markdown",
   "metadata": {},
   "source": [
    "problem 2: calculate the port number from the ip and compare to the port number in fileC; return any that are not equal"
   ]
  },
  {
   "cell_type": "code",
   "execution_count": 1,
   "metadata": {
    "collapsed": true
   },
   "outputs": [],
   "source": [
    "def get_ip_port(str):\n",
    "    '''\n",
    "    return the ip addr and port no. parsed from the given `str`\n",
    "    \n",
    "    where `str` eg:\n",
    "      \"transport.groupB_3096.exchangeA_5=53413 ;239.189.17.13 7990\"\n",
    "    '''\n",
    "    a = str.find('=')  # pos. of the '='\n",
    "    b = str.find(';')  # pos. of the ';'\n",
    "    \n",
    "    # pull out the port no. and strip whitespace\n",
    "    port = str[a+1:b-1]\n",
    "    \n",
    "    # and now we'll deal with the ip portion of the string\n",
    "    # ie from the ';' to the end of the string, ditching \n",
    "    # everything after the space, and split it into a list\n",
    "    _ip = str[b+1:]\n",
    "    ip = _ip[0:_ip.find(' ')].split('.')\n",
    "    \n",
    "    # at this point `ip` is a list of strings, and `port` is a string\n",
    "    # (and we have a computation/comparison ahead)\n",
    "    # so we'll convert these to a list of ints and an int respectively\n",
    "    ip = map(int, ip)\n",
    "    port = int(port)\n",
    "    return ip, port"
   ]
  },
  {
   "cell_type": "code",
   "execution_count": 2,
   "metadata": {
    "collapsed": true
   },
   "outputs": [],
   "source": [
    "# A lambda function to do the port `computation` \n",
    "# port = W.X.Y.Z =>  50000 + 200(y) + z\n",
    "# ie [239, 100, 33, 46] => 50000 + 200(33) + 46 = 56646\n",
    "computed_port = lambda ip: 50000 + (200 * ip[2]) + ip[3]"
   ]
  },
  {
   "cell_type": "code",
   "execution_count": 3,
   "metadata": {
    "collapsed": false
   },
   "outputs": [],
   "source": [
    "bad_lines = []\n",
    "# and we'll iterate and store the line number in case it's needed later...\n",
    "n = 1\n",
    "with open('fileC.txt', 'rb') as f:\n",
    "    for line in f:\n",
    "        \n",
    "        ip, port = get_ip_port(line)\n",
    "        \n",
    "        if port != computed_port(ip):\n",
    "            bad_lines.append([n, line])\n",
    "            \n",
    "        n += 1 "
   ]
  },
  {
   "cell_type": "code",
   "execution_count": 4,
   "metadata": {
    "collapsed": false
   },
   "outputs": [
    {
     "data": {
      "text/plain": [
       "[[24, 'transport.groupB_3097.exchangeA_d=53468 ;239.189.27.68 7990\\n'],\n",
       " [25, 'transport.groupB_3097.exchangeA_e=53469 ;239.189.27.69 7990\\n'],\n",
       " [26, 'transport.groupB_3097.exchangeA_f=53470 ;239.189.27.70 7990']]"
      ]
     },
     "execution_count": 4,
     "metadata": {},
     "output_type": "execute_result"
    }
   ],
   "source": [
    "bad_lines"
   ]
  }
 ],
 "metadata": {
  "kernelspec": {
   "display_name": "Python 2",
   "language": "python",
   "name": "python2"
  },
  "language_info": {
   "codemirror_mode": {
    "name": "ipython",
    "version": 2
   },
   "file_extension": ".py",
   "mimetype": "text/x-python",
   "name": "python",
   "nbconvert_exporter": "python",
   "pygments_lexer": "ipython2",
   "version": "2.7.9"
  }
 },
 "nbformat": 4,
 "nbformat_minor": 0
}
