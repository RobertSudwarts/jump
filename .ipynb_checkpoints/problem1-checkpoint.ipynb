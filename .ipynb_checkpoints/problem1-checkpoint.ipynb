{
 "cells": [
  {
   "cell_type": "markdown",
   "metadata": {},
   "source": [
    "Problem 1: \n",
    "write a Python script to find out which symbols in fileA are not contained in fileB for groupA and exchanges B and C"
   ]
  },
  {
   "cell_type": "code",
   "execution_count": 1,
   "metadata": {
    "collapsed": true
   },
   "outputs": [],
   "source": [
    "def parse_line(line):\n",
    "    '''return group, exchange and codes from the given `line`\n",
    "    '''\n",
    "    # remove the trailing newline char\n",
    "    line = line.rstrip('\\n')\n",
    "    \n",
    "    a = line.find('.')  # index of the '.'\n",
    "    b = line[:a].split('_')\n",
    "    exchange = b[0]\n",
    "    group = b[1]\n",
    "    \n",
    "    a = line.find('=')  # index of the '='\n",
    "    \n",
    "    # grab everything after the '=' and split to a list on ' '\n",
    "    codes = line[a + 1:].split(' ')\n",
    "    \n",
    "    # note! .isdigit() only works here as the numbers given are integers\n",
    "    #       a try...except ValueError using float/int would be req'd otherwise\n",
    "    codes = [c for c in codes if not c.isdigit()]\n",
    "    \n",
    "    return group, exchange, codes \n",
    "    "
   ]
  },
  {
   "cell_type": "code",
   "execution_count": 2,
   "metadata": {
    "collapsed": false
   },
   "outputs": [],
   "source": [
    "# a list/array to which we'll add the parsed `codes` \n",
    "# if group is `groupA` AND the exchange is either `B` OR `C`\n",
    "all_codes = []\n",
    "\n",
    "with open('fileB.txt', 'rb') as fh:\n",
    "    for line in fh:\n",
    "        \n",
    "        grp, ex, codes = parse_line(line)\n",
    "        \n",
    "        if grp == 'groupA':\n",
    "            if ex == 'exchangeB' or ex == 'exchangeC':\n",
    "                all_codes.extend(codes)"
   ]
  },
  {
   "cell_type": "code",
   "execution_count": 3,
   "metadata": {
    "collapsed": true
   },
   "outputs": [],
   "source": [
    "# grab list of codes from fileA\n",
    "with open('fileA.txt', 'rb') as fh:\n",
    "    codes = fh.read().splitlines()"
   ]
  },
  {
   "cell_type": "code",
   "execution_count": 4,
   "metadata": {
    "collapsed": false
   },
   "outputs": [],
   "source": [
    "# a simple set (difference) operation to deduct \n",
    "# codes from fileA from those (all_codes) derived from fileB\n",
    "missing_codes = set(codes) - set(all_codes)"
   ]
  },
  {
   "cell_type": "code",
   "execution_count": 5,
   "metadata": {
    "collapsed": false
   },
   "outputs": [
    {
     "name": "stdout",
     "output_type": "stream",
     "text": [
      "set(['ADF', 'BFD'])\n"
     ]
    }
   ],
   "source": [
    "print missing_codes"
   ]
  }
 ],
 "metadata": {
  "kernelspec": {
   "display_name": "Python 2",
   "language": "python",
   "name": "python2"
  },
  "language_info": {
   "codemirror_mode": {
    "name": "ipython",
    "version": 2
   },
   "file_extension": ".py",
   "mimetype": "text/x-python",
   "name": "python",
   "nbconvert_exporter": "python",
   "pygments_lexer": "ipython2",
   "version": "2.7.9"
  }
 },
 "nbformat": 4,
 "nbformat_minor": 0
}
